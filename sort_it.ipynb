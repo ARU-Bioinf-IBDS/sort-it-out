{
 "cells": [
  {
   "cell_type": "markdown",
   "metadata": {},
   "source": [
    "# SORT IT OUT!\n",
    "Python code to Solve WGC manual DNA assembly puzzle"
   ]
  },
  {
   "cell_type": "markdown",
   "metadata": {},
   "source": [
    "Function to work out whether two sequences overlap:"
   ]
  },
  {
   "cell_type": "code",
   "execution_count": 1,
   "metadata": {},
   "outputs": [],
   "source": [
    "def overlap(seq_a, seq_b):\n",
    "    \"\"\"\n",
    "    works out the whether seq_a overlaps with seq_b\n",
    "    returns a tuple (number of letters overlap, combined sequence)\n",
    "    \"\"\"\n",
    "    for n_overlap in range(len(seq_b),0,-1):\n",
    "        if seq_a.endswith(seq_b[:n_overlap]):\n",
    "            return (n_overlap, seq_a + seq_b[n_overlap:])\n",
    "    return (0, None)"
   ]
  },
  {
   "cell_type": "code",
   "execution_count": 2,
   "metadata": {},
   "outputs": [],
   "source": [
    "# tests that overlap function works properly\n",
    "assert overlap('AT', 'TG') == (1, 'ATG')\n",
    "assert overlap('ATGCATGC','ATGCAGAA') == (4, 'ATGCATGCAGAA')\n",
    "assert overlap('AA', 'GG') == (0, None)"
   ]
  },
  {
   "cell_type": "code",
   "execution_count": 3,
   "metadata": {},
   "outputs": [],
   "source": [
    "def assemble(start, fragments, print_progress=False):\n",
    "    \"\"\" \n",
    "    assembles the fragments into a single string that starts with start.\n",
    "    returns the assembled string\n",
    "    \"\"\"\n",
    "    assembled = start\n",
    "    local_frags = list(fragments)\n",
    "    while(local_frags):\n",
    "        n_overlaps = [overlap(assembled,f)[0] for f in local_frags]\n",
    "        max_overlap = max(n_overlaps)\n",
    "        if max_overlap == 0: \n",
    "            raise ValueError(f'Failed to assemble fragments assembled={assembled} frags={local_frags}')\n",
    "        index_max_overlap = n_overlaps.index(max(n_overlaps))\n",
    "        best_frag = local_frags.pop(index_max_overlap)\n",
    "        assembled = overlap(assembled, best_frag)[1]\n",
    "        if print_progress:\n",
    "            print('|'*(len(assembled)-len(best_frag)) + best_frag)\n",
    "    if print_progress:\n",
    "        print(assembled)\n",
    "    return assembled           "
   ]
  },
  {
   "cell_type": "code",
   "execution_count": 4,
   "metadata": {},
   "outputs": [],
   "source": [
    "fragments_1 = ['GGGCAGG',\n",
    "               'AGGTGT',\n",
    "               'ACTCACAG',\n",
    "               'TGATCGGGC',\n",
    "               'AATGTCTGA',\n",
    "               'CAGTATGTA',\n",
    "               'GTGTGTACTC',\n",
    "               'ATGTAAAT']\n",
    "start_1 = 'TGA'"
   ]
  },
  {
   "cell_type": "code",
   "execution_count": 5,
   "metadata": {},
   "outputs": [
    {
     "name": "stdout",
     "output_type": "stream",
     "text": [
      "TGATCGGGC\n",
      "|||||GGGCAGG\n",
      "|||||||||AGGTGT\n",
      "|||||||||||GTGTGTACTC\n",
      "|||||||||||||||||ACTCACAG\n",
      "||||||||||||||||||||||CAGTATGTA\n",
      "||||||||||||||||||||||||||ATGTAAAT\n",
      "|||||||||||||||||||||||||||||||AATGTCTGA\n",
      "TGATCGGGCAGGTGTGTACTCACAGTATGTAAATGTCTGA\n"
     ]
    },
    {
     "data": {
      "text/plain": [
       "'TGATCGGGCAGGTGTGTACTCACAGTATGTAAATGTCTGA'"
      ]
     },
     "execution_count": 5,
     "metadata": {},
     "output_type": "execute_result"
    }
   ],
   "source": [
    "assemble(start_1, fragments_1, print_progress=True)"
   ]
  },
  {
   "cell_type": "code",
   "execution_count": 6,
   "metadata": {},
   "outputs": [],
   "source": [
    "start_2 = 'ATA'\n",
    "fragments_2 = ['ATATGCTT',\n",
    "               'GCTGTTTCAATA',\n",
    "               'AATATCACTTTG',\n",
    "               'GCTTAAAGCAAG',\n",
    "               'CAAGTTGAAT',\n",
    "               'GAATTGGGCTG',\n",
    "               'TAATTTTTCCACC',\n",
    "               'CTTTGCTTTAATT']\n"
   ]
  },
  {
   "cell_type": "code",
   "execution_count": 7,
   "metadata": {},
   "outputs": [
    {
     "name": "stdout",
     "output_type": "stream",
     "text": [
      "ATATGCTT\n",
      "||||GCTTAAAGCAAG\n",
      "||||||||||||CAAGTTGAAT\n",
      "||||||||||||||||||GAATTGGGCTG\n",
      "|||||||||||||||||||||||||GCTGTTTCAATA\n",
      "|||||||||||||||||||||||||||||||||AATATCACTTTG\n",
      "||||||||||||||||||||||||||||||||||||||||CTTTGCTTTAATT\n",
      "||||||||||||||||||||||||||||||||||||||||||||||||TAATTTTTCCACC\n",
      "ATATGCTTAAAGCAAGTTGAATTGGGCTGTTTCAATATCACTTTGCTTTAATTTTTCCACC\n"
     ]
    },
    {
     "data": {
      "text/plain": [
       "'ATATGCTTAAAGCAAGTTGAATTGGGCTGTTTCAATATCACTTTGCTTTAATTTTTCCACC'"
      ]
     },
     "execution_count": 7,
     "metadata": {},
     "output_type": "execute_result"
    }
   ],
   "source": [
    "assemble(start_2, fragments_2, print_progress=True)"
   ]
  },
  {
   "cell_type": "code",
   "execution_count": null,
   "metadata": {},
   "outputs": [],
   "source": []
  }
 ],
 "metadata": {
  "kernelspec": {
   "display_name": "Python 3",
   "language": "python",
   "name": "python3"
  },
  "language_info": {
   "codemirror_mode": {
    "name": "ipython",
    "version": 3
   },
   "file_extension": ".py",
   "mimetype": "text/x-python",
   "name": "python",
   "nbconvert_exporter": "python",
   "pygments_lexer": "ipython3",
   "version": "3.7.1"
  }
 },
 "nbformat": 4,
 "nbformat_minor": 2
}
